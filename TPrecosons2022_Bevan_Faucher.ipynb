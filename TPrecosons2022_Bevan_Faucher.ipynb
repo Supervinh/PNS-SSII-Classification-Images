{
 "cells": [
  {
   "cell_type": "markdown",
   "metadata": {},
   "source": [
    "# TP classification de sons à rendre\n",
    "\n",
    "Tom Bevan (tom.bevan@etu.unice.fr)\n",
    "Vinh Faucher (vinh.faucher@etu.unice.fr)\n",
    "\n",
    "Polytech SI3 - SSII - 2021-22"
   ]
  },
  {
   "cell_type": "markdown",
   "metadata": {
    "pycharm": {
     "name": "#%% md\n"
    }
   },
   "source": [
    "# Données\n",
    "\n"
   ]
  },
  {
   "cell_type": "code",
   "execution_count": 49,
   "metadata": {
    "ExecuteTime": {
     "end_time": "2022-02-25T08:49:55.796301Z",
     "start_time": "2022-02-25T08:49:55.791554Z"
    }
   },
   "outputs": [],
   "source": [
    "#les imports nécessaires pour la suite\n",
    "import matplotlib.pyplot as plt\n",
    "import numpy as np \n",
    "from sklearn.linear_model import LogisticRegression\n",
    "from sklearn import preprocessing\n",
    "from sklearn.metrics import f1_score, accuracy_score, confusion_matrix, ConfusionMatrixDisplay\n",
    "from sklearn.cluster import KMeans, MiniBatchKMeans\n",
    "\n",
    "from sklearn.datasets import fetch_lfw_people\n",
    "import cv2\n",
    "from sklearn.model_selection import train_test_split\n",
    "\n",
    "from sklearn import svm\n",
    "from sklearn.metrics import classification_report"
   ]
  },
  {
   "cell_type": "markdown",
   "metadata": {},
   "source": [
    "## Les données\n",
    "On va utiliser le jeu de données \"lfw_people\" en filtrant les classes contenant minimum 100 images."
   ]
  },
  {
   "cell_type": "code",
   "execution_count": 30,
   "metadata": {
    "ExecuteTime": {
     "end_time": "2022-02-25T08:49:58.889474Z",
     "start_time": "2022-02-25T08:49:58.883203Z"
    }
   },
   "outputs": [],
   "source": [
    "\"\"\"On récupère les personnes ayant au minimum 100 photos dans la base de données et sans modification de taille\"\"\"\n",
    "lfw = fetch_lfw_people(min_faces_per_person=100, resize=1)\n",
    "taille_mfcc = 13\n",
    "X = lfw.images\n",
    "y = lfw.target\n",
    "\"\"\"On crée nos bases d'entrainement et de test\"\"\"\n",
    "Xtrain, Xtest, yTrain, yTest = train_test_split(X, y, test_size=0.25, random_state=33)"
   ]
  },
  {
   "cell_type": "markdown",
   "source": [
    "# On crée les sifts"
   ],
   "metadata": {
    "collapsed": false,
    "pycharm": {
     "name": "#%% md\n"
    }
   }
  },
  {
   "cell_type": "code",
   "execution_count": 60,
   "metadata": {
    "ExecuteTime": {
     "end_time": "2022-02-25T08:50:00.023621Z",
     "start_time": "2022-02-25T08:49:59.985871Z"
    }
   },
   "outputs": [],
   "source": [
    "def build_sifts_from_image_list(images, siftsRes, sifts_per_image=[]):\n",
    "\n",
    "    \"\"\"\n",
    "    Remplit le numpy array sifts passé en paramètres avec les SIFTs de toutes les images ainsi que le tableau contenant\n",
    "    le nombre de sifts de chaque image.\n",
    "\n",
    "    Arguments:\n",
    "         images: une liste d'images, dont on souhaite calculer les SIFTs.\n",
    "         siftsRes: le numpy array à remplir\n",
    "         sifts_per_image: le tableau auquel on ajoute le nombre de SIFTs de chaque image.\n",
    "    \"\"\"\n",
    "\n",
    "    for image in images:\n",
    "        gray_image = cv2.normalize(image, None, 0, 255, cv2.NORM_MINMAX).astype('uint8')\n",
    "        sift = cv2.SIFT_create()\n",
    "        kp, des = sift.detectAndCompute(gray_image, None)\n",
    "        #print(siftsRes.shape)\n",
    "        #print(des)\n",
    "        siftsRes = np.append(siftsRes, des, axis=0)\n",
    "        sifts_per_image.append(len(des))\n",
    "\n",
    "    return siftsRes\n",
    "\n",
    "\n",
    "sifts = np.empty(shape = (0, 128))\n",
    "sifts_per_image = []\n",
    "\n",
    "#On crée nos sifts à partir de notre base d'entrainement\n",
    "sifts = build_sifts_from_image_list(Xtrain, sifts, sifts_per_image)\n",
    "#print(sifts.shape)"
   ]
  },
  {
   "cell_type": "markdown",
   "metadata": {
    "pycharm": {
     "name": "#%% md\n"
    }
   },
   "source": [
    "## Partitionnement en K-means"
   ]
  },
  {
   "cell_type": "code",
   "execution_count": 61,
   "outputs": [],
   "source": [
    "def build_clusters_list(sifts, k = 500):\n",
    "\n",
    "    \"\"\"\n",
    "    Partitionne les SIFTs en k clusters et retourne le cluster auquel appartient chaque SIFT.\n",
    "\n",
    "    Arguments:\n",
    "        sifts: le numpy array de SIFTs à partitionner.\n",
    "        k: le nombre de clusters souhaité.\n",
    "    \"\"\"\n",
    "\n",
    "    kMeans = MiniBatchKMeans(n_clusters = k)\n",
    "    kMeans.fit(sifts)\n",
    "    return kMeans.labels_\n",
    "\n",
    "\n",
    "def build_images_bows(labels, sifts_per_image, k = 500):\n",
    "\n",
    "    \"\"\"\n",
    "    Construit un numpy array contenant les BOWs de chaque image.\n",
    "\n",
    "    Arguments:\n",
    "        labels: les labels de chaque SIFTs, CAD à quel cluster appartient chaque SIFT.\n",
    "        sifts_per_image: le tableau décrivant le nombre de SIFT dans chaque image.\n",
    "        k: le nombre de clusters.\n",
    "    \"\"\"\n",
    "\n",
    "    all_bows = np.zeros(shape = (len(sifts_per_image), k))\n",
    "\n",
    "    parcours = 0\n",
    "    parcours_bis = 0\n",
    "    for sift_amount in sifts_per_image:\n",
    "        bow = np.zeros(k)\n",
    "        for i in range(parcours + sift_amount):\n",
    "            bow[labels[i]] += 1/sift_amount\n",
    "        parcours += sift_amount\n",
    "        all_bows[parcours_bis] = bow\n",
    "        parcours_bis += 1\n",
    "\n",
    "    return all_bows"
   ],
   "metadata": {
    "collapsed": false,
    "pycharm": {
     "name": "#%%\n"
    }
   }
  },
  {
   "cell_type": "code",
   "execution_count": 62,
   "outputs": [],
   "source": [
    "\"\"\"Création des clusters\"\"\"\n",
    "\n",
    "labels = build_clusters_list(sifts)"
   ],
   "metadata": {
    "collapsed": false,
    "pycharm": {
     "name": "#%%\n"
    }
   }
  },
  {
   "cell_type": "code",
   "execution_count": 63,
   "outputs": [],
   "source": [
    "\"\"\"Construction des BOWs\"\"\"\n",
    "\n",
    "bows = build_images_bows(labels, sifts_per_image)"
   ],
   "metadata": {
    "collapsed": false,
    "pycharm": {
     "name": "#%%\n"
    }
   }
  },
  {
   "cell_type": "code",
   "execution_count": 64,
   "outputs": [
    {
     "name": "stdout",
     "output_type": "stream",
     "text": [
      "[113 306  72 ... 467 162  72]\n",
      "(855, 500)\n",
      "[0.         0.         0.         0.         0.         0.\n",
      " 0.         0.         0.         0.         0.         0.\n",
      " 0.         0.         0.         0.         0.         0.\n",
      " 0.         0.         0.         0.         0.         0.01886792\n",
      " 0.         0.         0.         0.         0.         0.\n",
      " 0.         0.         0.         0.01886792 0.         0.01886792\n",
      " 0.         0.         0.         0.         0.         0.\n",
      " 0.         0.         0.         0.         0.         0.01886792\n",
      " 0.         0.         0.         0.01886792 0.         0.\n",
      " 0.         0.         0.         0.         0.         0.\n",
      " 0.         0.         0.01886792 0.         0.01886792 0.\n",
      " 0.         0.         0.         0.         0.         0.\n",
      " 0.01886792 0.         0.         0.01886792 0.         0.\n",
      " 0.         0.         0.         0.         0.         0.\n",
      " 0.         0.01886792 0.         0.         0.01886792 0.\n",
      " 0.01886792 0.         0.         0.         0.         0.\n",
      " 0.         0.01886792 0.         0.         0.         0.\n",
      " 0.         0.         0.         0.         0.         0.\n",
      " 0.         0.         0.         0.         0.         0.03773585\n",
      " 0.         0.01886792 0.         0.         0.         0.\n",
      " 0.         0.01886792 0.         0.01886792 0.         0.\n",
      " 0.         0.         0.         0.         0.         0.\n",
      " 0.         0.         0.03773585 0.         0.         0.\n",
      " 0.         0.         0.         0.         0.         0.\n",
      " 0.         0.         0.         0.         0.         0.\n",
      " 0.         0.         0.01886792 0.         0.         0.\n",
      " 0.         0.01886792 0.         0.         0.         0.\n",
      " 0.         0.03773585 0.         0.         0.         0.\n",
      " 0.         0.         0.         0.         0.         0.\n",
      " 0.         0.         0.         0.01886792 0.         0.\n",
      " 0.         0.         0.         0.         0.         0.\n",
      " 0.         0.         0.         0.         0.         0.\n",
      " 0.         0.         0.01886792 0.         0.         0.\n",
      " 0.         0.         0.         0.         0.         0.\n",
      " 0.         0.         0.         0.         0.         0.\n",
      " 0.         0.         0.         0.         0.         0.\n",
      " 0.01886792 0.         0.         0.         0.         0.\n",
      " 0.         0.         0.         0.         0.01886792 0.\n",
      " 0.         0.         0.         0.01886792 0.         0.\n",
      " 0.         0.         0.         0.         0.         0.\n",
      " 0.         0.         0.         0.         0.         0.\n",
      " 0.         0.01886792 0.         0.         0.         0.\n",
      " 0.         0.         0.         0.         0.         0.\n",
      " 0.         0.         0.         0.         0.         0.\n",
      " 0.         0.         0.         0.         0.         0.\n",
      " 0.         0.01886792 0.         0.         0.         0.\n",
      " 0.         0.         0.         0.         0.         0.\n",
      " 0.         0.         0.         0.         0.         0.\n",
      " 0.         0.         0.         0.         0.01886792 0.\n",
      " 0.         0.         0.         0.         0.         0.\n",
      " 0.         0.         0.         0.         0.         0.\n",
      " 0.01886792 0.         0.         0.         0.         0.\n",
      " 0.01886792 0.         0.         0.         0.01886792 0.\n",
      " 0.01886792 0.01886792 0.         0.         0.03773585 0.\n",
      " 0.         0.         0.         0.         0.         0.\n",
      " 0.         0.         0.         0.         0.         0.\n",
      " 0.         0.         0.01886792 0.         0.         0.\n",
      " 0.01886792 0.         0.         0.         0.         0.\n",
      " 0.         0.         0.         0.         0.         0.\n",
      " 0.         0.         0.         0.         0.         0.\n",
      " 0.         0.         0.         0.         0.         0.\n",
      " 0.         0.01886792 0.         0.         0.         0.\n",
      " 0.         0.         0.         0.         0.01886792 0.\n",
      " 0.         0.         0.         0.01886792 0.         0.\n",
      " 0.         0.         0.         0.         0.         0.\n",
      " 0.         0.         0.         0.         0.         0.\n",
      " 0.         0.         0.01886792 0.01886792 0.         0.\n",
      " 0.         0.         0.         0.         0.         0.\n",
      " 0.         0.         0.         0.         0.         0.\n",
      " 0.         0.         0.         0.         0.         0.\n",
      " 0.         0.         0.         0.         0.         0.\n",
      " 0.         0.         0.         0.         0.         0.\n",
      " 0.         0.         0.         0.01886792 0.         0.\n",
      " 0.         0.         0.         0.         0.         0.\n",
      " 0.         0.01886792 0.         0.         0.         0.01886792\n",
      " 0.         0.         0.         0.01886792 0.         0.\n",
      " 0.         0.01886792 0.         0.         0.         0.\n",
      " 0.         0.         0.         0.01886792 0.         0.\n",
      " 0.         0.         0.         0.         0.         0.\n",
      " 0.         0.         0.         0.         0.         0.\n",
      " 0.         0.         0.         0.         0.         0.\n",
      " 0.         0.         0.         0.         0.         0.\n",
      " 0.         0.         0.         0.         0.01886792 0.\n",
      " 0.         0.        ]\n",
      "0.9999999999999999\n"
     ]
    }
   ],
   "source": [
    "\"\"\"print(labels)\n",
    "print(bows.shape)\n",
    "print(bows[0])\n",
    "print(sum(bows[0]))\"\"\""
   ],
   "metadata": {
    "collapsed": false,
    "pycharm": {
     "name": "#%%\n"
    }
   }
  },
  {
   "cell_type": "markdown",
   "metadata": {},
   "source": [
    "### Classification"
   ]
  },
  {
   "cell_type": "code",
   "execution_count": 65,
   "outputs": [
    {
     "data": {
      "text/plain": "LogisticRegression(max_iter=100000)"
     },
     "execution_count": 65,
     "metadata": {},
     "output_type": "execute_result"
    }
   ],
   "source": [
    "\"\"\"Régression logistique puis classification\"\"\"\n",
    "\n",
    "logisticRegr = LogisticRegression(max_iter = 100000)\n",
    "\n",
    "scaler = preprocessing.StandardScaler().fit(bows)\n",
    "xtrain = scaler.transform(bows)\n",
    "logisticRegr.fit(xtrain, yTrain)"
   ],
   "metadata": {
    "collapsed": false,
    "pycharm": {
     "name": "#%%\n"
    }
   }
  },
  {
   "cell_type": "code",
   "execution_count": 66,
   "metadata": {
    "ExecuteTime": {
     "end_time": "2022-02-25T09:00:14.900690Z",
     "start_time": "2022-02-25T09:00:14.892372Z"
    }
   },
   "outputs": [
    {
     "name": "stdout",
     "output_type": "stream",
     "text": [
      "train F1 score =  0.5064327485380117\n",
      "train accuracy score =  0.5064327485380117\n"
     ]
    }
   ],
   "source": [
    "\"\"\"On essaie de prédire l'efficacité de notre apprentissage \"\"\"\n",
    "ypred = logisticRegr.predict(xtrain)\n",
    "print(\"train F1 score = \", f1_score(yTrain, ypred, average = 'micro'))\n",
    "print(\"train accuracy score = \", accuracy_score(yTrain, ypred))\n"
   ]
  },
  {
   "cell_type": "markdown",
   "source": [
    "On peut voir que les scores ne sont pas très élevés, ce qui veut dire que notre apprentissage n'est pas suffisament bon pour reconnaitre de façon efficace les photos."
   ],
   "metadata": {
    "collapsed": false,
    "pycharm": {
     "name": "#%% md\n"
    }
   }
  },
  {
   "cell_type": "code",
   "execution_count": 67,
   "metadata": {
    "ExecuteTime": {
     "end_time": "2022-02-25T09:00:43.964577Z",
     "start_time": "2022-02-25T09:00:43.837453Z"
    }
   },
   "outputs": [
    {
     "data": {
      "text/plain": "<Figure size 432x288 with 2 Axes>",
      "image/png": "[encoded data removed]"
     },
     "metadata": {
      "needs_background": "light"
     },
     "output_type": "display_data"
    }
   ],
   "source": [
    "\"\"\"Maintenant on s'occupe de la matrice de confusion\"\"\"\n",
    "cm = confusion_matrix(yTrain, ypred, labels=[0,1,2,3,4])\n",
    "disp = ConfusionMatrixDisplay(confusion_matrix=cm, display_labels=lfw.target_names)\n",
    "disp.plot()\n",
    "disp.ax_.set_title('Confusion matrix (train dataset)')\n",
    "plt.show()"
   ]
  },
  {
   "cell_type": "markdown",
   "source": [
    "On peut voir que dans le cas de George W Bush, notre code est relativement efficace, mais confond quand même en grande partie avec d'autres personnes. Quand à la reconnaissance des autres personnes, on voit que les scores sont extrêmement bas, ce qui veut dire que la classification linéaire n'est pas efficace dans notre cas et qu'on doit s'y prendre autrement."
   ],
   "metadata": {
    "collapsed": false,
    "pycharm": {
     "name": "#%% md\n"
    }
   }
  },
  {
   "cell_type": "markdown",
   "source": [
    "### On compare avec notre base de test"
   ],
   "metadata": {
    "collapsed": false,
    "pycharm": {
     "name": "#%% md\n"
    }
   }
  },
  {
   "cell_type": "code",
   "execution_count": 68,
   "outputs": [],
   "source": [
    "\"\"\"On reprend les mêmes étapes que précédemment mais pour notre base de test\"\"\"\n",
    "sifts_test = np.empty(shape = (0, 128))\n",
    "sifts_per_image_test = []\n",
    "\n",
    "sifts_test = build_sifts_from_image_list(Xtest, sifts_test, sifts_per_image_test)\n",
    "\n",
    "labels_test = build_clusters_list(sifts_test)\n",
    "\n",
    "bows_test = build_images_bows(labels_test, sifts_per_image_test)\n",
    "\n",
    "\n"
   ],
   "metadata": {
    "collapsed": false,
    "pycharm": {
     "name": "#%%\n"
    }
   }
  },
  {
   "cell_type": "code",
   "execution_count": 69,
   "outputs": [
    {
     "name": "stdout",
     "output_type": "stream",
     "text": [
      "train F1 score =  0.3263157894736842\n",
      "train accuracy score =  0.3263157894736842\n"
     ]
    }
   ],
   "source": [
    "scaler = preprocessing.StandardScaler().fit(bows_test)\n",
    "xtest = scaler.transform(bows_test)\n",
    "\n",
    "ypred_test = logisticRegr.predict(xtest)\n",
    "print(\"train F1 score = \", f1_score(yTest, ypred_test, average = 'micro'))\n",
    "print(\"train accuracy score = \", accuracy_score(yTest, ypred_test))\n"
   ],
   "metadata": {
    "collapsed": false,
    "pycharm": {
     "name": "#%%\n"
    }
   }
  },
  {
   "cell_type": "markdown",
   "source": [
    "On peut voir que le score est extrêmement bas, on peut donc s'attendre à un grand nombre d'erreur dans la reconnaissance des photos."
   ],
   "metadata": {
    "collapsed": false,
    "pycharm": {
     "name": "#%% md\n"
    }
   }
  },
  {
   "cell_type": "code",
   "source": [
    "cm = confusion_matrix(yTest, ypred_test, labels=[0,1,2,3,4])\n",
    "disp = ConfusionMatrixDisplay(confusion_matrix=cm, display_labels=lfw.target_names)\n",
    "disp.plot()\n",
    "disp.ax_.set_title('Confusion matrix (test dataset)')\n",
    "plt.show()"
   ],
   "metadata": {
    "collapsed": false,
    "pycharm": {
     "name": "#%%\n"
    }
   },
   "execution_count": null,
   "outputs": []
  },
  {
   "cell_type": "markdown",
   "source": [
    "La matrice de confusion de la base de test est cohérente avec les résultats obtenus précédemment et montre que notre code n'est pas très efficace dans la reconnaissance d'images."
   ],
   "metadata": {
    "collapsed": false,
    "pycharm": {
     "name": "#%% md\n"
    }
   }
  },
  {
   "cell_type": "markdown",
   "source": [
    "### Classification SVC"
   ],
   "metadata": {
    "collapsed": false,
    "pycharm": {
     "name": "#%% md\n"
    }
   }
  },
  {
   "cell_type": "code",
   "execution_count": 57,
   "metadata": {
    "pycharm": {
     "name": "#%%\n"
    }
   },
   "outputs": [
    {
     "name": "stdout",
     "output_type": "stream",
     "text": [
      "Accuracy - =0.566\n"
     ]
    }
   ],
   "source": [
    "classif = svm.SVC(kernel='linear', decision_function_shape='ovr', C=100)\n",
    "classif.fit(bows, yTrain)\n",
    "#print('support vectors: ', classif.support_vectors_)\n",
    "\n",
    "print(f'Accuracy - ={classif.score(bows, yTrain):.3f}')"
   ]
  },
  {
   "cell_type": "code",
   "execution_count": 58,
   "outputs": [
    {
     "name": "stdout",
     "output_type": "stream",
     "text": [
      "prediction class [0 0 0 0 0 0 0 0 0 0 4 4 0 0 4 4 4 4 4 4 4 4 0 4 4 4 4 4 0 0 0 0 4 0 4 4 4\n",
      " 4 4 4 4 4 4 4 0 4 4 4 4 4 4 4 4 4 4 4 4 0 4 4 4 4 4 4 4 4 4 4 4 4 4 4 4 4\n",
      " 4 4 4 4 4 4 4 4 0 3 2 4 0 0 0 4 2 2 0 0 0 2 2 0 0 0 0 0 2 3 4 2 2 2 2 2 2\n",
      " 2 2 2 2 3 2 2 3 3 2 3 3 2 3 4 2 3 3 2 2 2 1 2 0 2 2 2 3 2 2 2 2 2 1 1 2 0\n",
      " 2 2 3 2 3 2 3 0 3 3 1 0 2 1 0 1 3 1 1 1 1 1 1 1 1 1 1 4 1 1 3 1 1 3 1 3 1\n",
      " 1 3 1 1 1 4 1 1 1 1 1 1 1 1 3 1 3 1 1 1 1 1 1 3 1 3 1 3 1 3 3 3 3 1 3 1 3\n",
      " 3 0 3 3 3 3 3 3 0 3 3 1 3 3 1 3 3 3 0 3 3 3 3 3 3 3 3 3 3 1 3 1 1 3 3 0 3\n",
      " 1 3 3 3 3 1 3 3 3 3 1 3 3 3 3 3 1 3 3 3 3 3 3 3 3 3]\n",
      "support vectors:  [[1.11111111e-02 1.11111111e-02 2.22222222e-02 ... 0.00000000e+00\n",
      "  2.22222222e-02 2.22222222e-02]\n",
      " [3.92156863e-02 2.94117647e-02 6.86274510e-02 ... 4.90196078e-02\n",
      "  6.86274510e-02 2.94117647e-02]\n",
      " [5.55555556e-02 4.16666667e-02 9.72222222e-02 ... 6.94444444e-02\n",
      "  2.08333333e-01 6.94444444e-02]\n",
      " ...\n",
      " [6.76344086e+00 6.64516129e+00 7.06451613e+00 ... 5.49462366e+00\n",
      "  1.02580645e+01 4.84946237e+00]\n",
      " [1.05666667e+01 1.03666667e+01 1.11166667e+01 ... 8.58333333e+00\n",
      "  1.59333333e+01 7.65000000e+00]\n",
      " [8.34210526e+00 8.18421053e+00 8.80263158e+00 ... 6.77631579e+00\n",
      "  1.25789474e+01 6.03947368e+00]]\n"
     ]
    },
    {
     "data": {
      "text/plain": "<Figure size 432x288 with 2 Axes>",
      "image/png": "[encoded data removed]"
     },
     "metadata": {
      "needs_background": "light"
     },
     "output_type": "display_data"
    }
   ],
   "source": [
    "print('prediction class', classif.predict(xtest))\n",
    "print('support vectors: ', classif.support_vectors_)\n",
    "\n",
    "cm = confusion_matrix(yTest, classif.predict(xtest), labels=[0,1,2,3,4])\n",
    "disp = ConfusionMatrixDisplay(confusion_matrix=cm, display_labels=lfw.target_names)\n",
    "disp.plot()\n",
    "disp.ax_.set_title('Confusion matrix (test dataset)')\n",
    "plt.show()"
   ],
   "metadata": {
    "collapsed": false,
    "pycharm": {
     "name": "#%%\n"
    }
   }
  },
  {
   "cell_type": "code",
   "execution_count": 59,
   "outputs": [
    {
     "name": "stdout",
     "output_type": "stream",
     "text": [
      "              precision    recall  f1-score   support\n",
      "\n",
      "           0       0.24      0.16      0.19        64\n",
      "           1       0.15      0.29      0.19        28\n",
      "           2       0.41      0.13      0.20       120\n",
      "           3       0.12      0.28      0.17        36\n",
      "           4       0.13      0.24      0.17        37\n",
      "\n",
      "    accuracy                           0.19       285\n",
      "   macro avg       0.21      0.22      0.19       285\n",
      "weighted avg       0.27      0.19      0.19       285\n",
      "\n"
     ]
    }
   ],
   "source": [
    "print(classification_report(yTest, classif.predict(xtest), zero_division=0))"
   ],
   "metadata": {
    "collapsed": false,
    "pycharm": {
     "name": "#%%\n"
    }
   }
  },
  {
   "cell_type": "code",
   "execution_count": 84,
   "outputs": [
    {
     "name": "stdout",
     "output_type": "stream",
     "text": [
      "Accuracy - =0.487\n"
     ]
    },
    {
     "data": {
      "text/plain": "<Figure size 432x288 with 2 Axes>",
      "image/png": "[encoded data removed]"
     },
     "metadata": {
      "needs_background": "light"
     },
     "output_type": "display_data"
    },
    {
     "name": "stdout",
     "output_type": "stream",
     "text": [
      "              precision    recall  f1-score   support\n",
      "\n",
      "           0       0.24      0.28      0.26        64\n",
      "           1       0.00      0.00      0.00        28\n",
      "           2       0.42      0.73      0.53       120\n",
      "           3       0.00      0.00      0.00        36\n",
      "           4       0.00      0.00      0.00        37\n",
      "\n",
      "    accuracy                           0.37       285\n",
      "   macro avg       0.13      0.20      0.16       285\n",
      "weighted avg       0.23      0.37      0.28       285\n",
      "\n"
     ]
    }
   ],
   "source": [
    "classif = svm.SVC(kernel='rbf', decision_function_shape='ovr', C=100)\n",
    "classif.fit(bows, yTrain)\n",
    "\n",
    "print(f'Accuracy - ={classif.score(bows, yTrain):.3f}')\n",
    "\n",
    "cm = confusion_matrix(yTest, classif.predict(xtest), labels=[0,1,2,3,4])\n",
    "disp = ConfusionMatrixDisplay(confusion_matrix=cm, display_labels=lfw.target_names)\n",
    "disp.plot()\n",
    "disp.ax_.set_title('Confusion matrix (test dataset)')\n",
    "plt.show()\n",
    "\n",
    "print(classification_report(yTest, classif.predict(xtest), zero_division=0))"
   ],
   "metadata": {
    "collapsed": false,
    "pycharm": {
     "name": "#%%\n"
    }
   }
  },
  {
   "cell_type": "code",
   "execution_count": 76,
   "outputs": [
    {
     "name": "stdout",
     "output_type": "stream",
     "text": [
      "Accuracy - =0.515\n"
     ]
    },
    {
     "data": {
      "text/plain": "<Figure size 432x288 with 2 Axes>",
      "image/png": "[encoded data removed]"
     },
     "metadata": {
      "needs_background": "light"
     },
     "output_type": "display_data"
    },
    {
     "name": "stdout",
     "output_type": "stream",
     "text": [
      "              precision    recall  f1-score   support\n",
      "\n",
      "           0       0.19      0.17      0.18        64\n",
      "           1       0.09      0.11      0.10        28\n",
      "           2       0.41      0.65      0.50       120\n",
      "           3       0.00      0.00      0.00        36\n",
      "           4       0.00      0.00      0.00        37\n",
      "\n",
      "    accuracy                           0.32       285\n",
      "   macro avg       0.14      0.19      0.16       285\n",
      "weighted avg       0.22      0.32      0.26       285\n",
      "\n"
     ]
    }
   ],
   "source": [
    "classif = svm.SVC(kernel='poly', decision_function_shape='ovr', C=100)\n",
    "classif.fit(bows, yTrain)\n",
    "\n",
    "print(f'Accuracy - ={classif.score(bows, yTrain):.3f}')\n",
    "\n",
    "cm = confusion_matrix(yTest, classif.predict(xtest), labels=[0,1,2,3,4])\n",
    "disp = ConfusionMatrixDisplay(confusion_matrix=cm, display_labels=lfw.target_names)\n",
    "disp.plot()\n",
    "disp.ax_.set_title('Confusion matrix (test dataset)')\n",
    "plt.show()\n",
    "\n",
    "print(classification_report(yTest, classif.predict(xtest), zero_division=0))"
   ],
   "metadata": {
    "collapsed": false,
    "pycharm": {
     "name": "#%%\n"
    }
   }
  },
  {
   "cell_type": "code",
   "execution_count": null,
   "outputs": [],
   "source": [],
   "metadata": {
    "collapsed": false,
    "pycharm": {
     "name": "#%%\n"
    }
   }
  }
 ],
 "metadata": {
  "hide_input": false,
  "kernelspec": {
   "display_name": "Python 3 (ipykernel)",
   "language": "python",
   "name": "python3"
  },
  "language_info": {
   "codemirror_mode": {
    "name": "ipython",
    "version": 3
   },
   "file_extension": ".py",
   "mimetype": "text/x-python",
   "name": "python",
   "nbconvert_exporter": "python",
   "pygments_lexer": "ipython3",
   "version": "3.9.10"
  },
  "latex_envs": {
   "LaTeX_envs_menu_present": true,
   "autoclose": false,
   "autocomplete": true,
   "bibliofile": "biblio.bib",
   "cite_by": "apalike",
   "current_citInitial": 1,
   "eqLabelWithNumbers": true,
   "eqNumInitial": 1,
   "hotkeys": {
    "equation": "Ctrl-E",
    "itemize": "Ctrl-I"
   },
   "labels_anchors": false,
   "latex_user_defs": false,
   "report_style_numbering": false,
   "user_envs_cfg": false
  },
  "varInspector": {
   "cols": {
    "lenName": 16,
    "lenType": 16,
    "lenVar": 40
   },
   "kernels_config": {
    "python": {
     "delete_cmd_postfix": "",
     "delete_cmd_prefix": "del ",
     "library": "var_list.py",
     "varRefreshCmd": "print(var_dic_list())"
    },
    "r": {
     "delete_cmd_postfix": ") ",
     "delete_cmd_prefix": "rm(",
     "library": "var_list.r",
     "varRefreshCmd": "cat(var_dic_list()) "
    }
   },
   "types_to_exclude": [
    "module",
    "function",
    "builtin_function_or_method",
    "instance",
    "_Feature"
   ],
   "window_display": false
  }
 },
 "nbformat": 4,
 "nbformat_minor": 4
}